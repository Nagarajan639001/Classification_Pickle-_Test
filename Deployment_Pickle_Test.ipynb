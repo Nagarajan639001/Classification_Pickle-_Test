{
 "cells": [
  {
   "cell_type": "code",
   "execution_count": 6,
   "id": "540d073b-af04-43ce-bdc7-e4c351cc8076",
   "metadata": {},
   "outputs": [],
   "source": [
    "import pickle\n",
    "import pandas as pd"
   ]
  },
  {
   "cell_type": "code",
   "execution_count": 7,
   "id": "f9871e67-bf0b-48aa-bf1a-284df0b1e871",
   "metadata": {},
   "outputs": [],
   "source": [
    "filename=\"Finalized_model_Gridsearchcv_Assignment_Classification.sav\"\n",
    "file=open(\"Finalized_model_Gridsearchcv_Assignment_Classification:pkl\",'rb')\n",
    "loaded_model=pickle.load(file)"
   ]
  },
  {
   "cell_type": "code",
   "execution_count": 8,
   "id": "a4452198-f66c-4106-8523-19189ed9baa9",
   "metadata": {},
   "outputs": [],
   "source": [
    "filename1=\"initial_data.sav\"\n",
    "file1=open(\"initial_data:pkl\",'rb')\n",
    "sc,scy=pickle.load(open(\"initial_data:pkl\",'rb'))"
   ]
  },
  {
   "cell_type": "code",
   "execution_count": 9,
   "id": "ed5eee09-0fe1-4339-83c8-39521a59c2e6",
   "metadata": {},
   "outputs": [
    {
     "data": {
      "text/plain": [
       "(StandardScaler(), StandardScaler())"
      ]
     },
     "execution_count": 9,
     "metadata": {},
     "output_type": "execute_result"
    }
   ],
   "source": [
    "sc,scy"
   ]
  },
  {
   "cell_type": "code",
   "execution_count": 10,
   "id": "043ab20c-8366-4863-86cc-1bd60f61e241",
   "metadata": {},
   "outputs": [
    {
     "name": "stderr",
     "output_type": "stream",
     "text": [
      "C:\\Anaconda3\\Lib\\site-packages\\sklearn\\base.py:493: UserWarning: X does not have valid feature names, but StandardScaler was fitted with feature names\n",
      "  warnings.warn(\n"
     ]
    }
   ],
   "source": [
    "preinput=sc.transform([[2.00,76.46,0,1,0,3.0,0,1,0,0,0,148.112,57.482,3.077,137.5287,4.6272,12.518,38.868,8408.191,4.705,0,0,0,1,1,0,1]])"
   ]
  },
  {
   "cell_type": "code",
   "execution_count": 11,
   "id": "99aed945-05fa-48c3-8362-d421921f0a02",
   "metadata": {
    "scrolled": true
   },
   "outputs": [
    {
     "data": {
      "text/plain": [
       "array([[-3.06588549e+00, -1.15034877e-02, -6.83842759e-01,\n",
       "         6.44753992e-01, -1.96101988e+00, -1.08325862e+00,\n",
       "        -5.39401918e-01, -1.29682021e+01, -2.05626670e+00,\n",
       "        -4.61321523e+00, -4.80054130e+00, -3.40322995e+00,\n",
       "         6.46937621e+01,  7.26596668e+00,  3.26594115e+02,\n",
       "         1.18910976e+01,  9.20362050e+01,  1.12414002e+02,\n",
       "         2.07596802e+04,  1.49881188e+01, -2.35702260e-01,\n",
       "        -7.39264248e-01, -7.39264248e-01,  3.41565026e+00,\n",
       "         5.16397779e-01, -5.22232968e-01,  2.24620893e+00]])"
      ]
     },
     "execution_count": 11,
     "metadata": {},
     "output_type": "execute_result"
    }
   ],
   "source": [
    "preinput"
   ]
  },
  {
   "cell_type": "code",
   "execution_count": 12,
   "id": "7e3c412a-7fe0-4064-924a-57e6a39d339e",
   "metadata": {},
   "outputs": [
    {
     "name": "stdin",
     "output_type": "stream",
     "text": [
      "Age: 2.0\n",
      "BP: 76.46\n",
      "AI: 3.0\n",
      "su: 0\n",
      "bgr: 148.112\n",
      "bu: 57.482\n",
      "sc: 3.077\n",
      "sod : 137.5287\n",
      "pot: 4.6272\n",
      "hrmo: 12.518\n",
      "pcv: 38.868\n",
      "wc: 8408.191\n",
      "rc: 4.705\n",
      "sg_b 1 0r 0: 0\n",
      "sg_c 1 or 0: 1\n",
      "sg_d 1 or 0 : 0\n",
      "sg_e 1 or 0: 0\n",
      "rbc 0 or 1: 1\n",
      "pc 0 or 1: 0\n",
      "pcc 0  or 1: 0\n",
      "ba 0 or  1 : 0\n",
      "htn 1 or 0 : 0\n",
      "dn 0 or 1 : 0\n",
      "cad 1 or 0 : 0\n",
      "appet 1 or 0 : 1\n",
      "pc 1 or 0 : 1\n",
      "ane 1 or 0 : 0\n"
     ]
    }
   ],
   "source": [
    " age_input=float(input(\"Age:\"))\n",
    "bp_input=float(input(\"BP:\"))\n",
    "ai_input=float(input(\"AI:\"))\n",
    "su_input=int(input(\"su:\"))\n",
    "bgr_input =float(input(\"bgr:\"))\n",
    "bu_input = float(input(\"bu:\"))\n",
    "sc_input=float(input(\"sc:\"))\n",
    "sod_input=float(input(\"sod :\"))\n",
    "pot_input = float(input(\"pot:\"))\n",
    "hrmo_input= float(input(\"hrmo:\"))\n",
    "pcv_input=float(input(\"pcv:\"))\n",
    "wc_input=float(input(\"wc:\"))\n",
    "rc_input=float(input(\"rc:\"))\n",
    "sg_b_input=int(input(\"sg_b 1 0r 0:\"))\n",
    "sg_c_input=int(input(\"sg_c 1 or 0:\"))\n",
    "sg_d_input=int(input(\"sg_d 1 or 0 :\"))\n",
    "sg_e_input=int(input(\"sg_e 1 or 0:\"))\n",
    "rbc_input=int(input(\"rbc 0 or 1:\"))\n",
    "pc_input=int(input(\"pc 0 or 1:\"))\n",
    "pcc_input=int(input(\"pcc 0  or 1:\"))\n",
    "ba_input=int(input(\"ba 0 or  1 :\"))\n",
    "htn_input=(input(\"htn 1 or 0 :\"))\n",
    "dn_input=(input(\"dn 0 or 1 :\"))\n",
    "cad_input=(input(\"cad 1 or 0 :\"))\n",
    "appet_input = int(input(\"appet 1 or 0 :\"))\n",
    "pc_input= (input(\"pc 1 or 0 :\"))\n",
    "ane_input=(input(\"ane 1 or 0 :\"))           "
   ]
  },
  {
   "cell_type": "code",
   "execution_count": 15,
   "id": "7032cdd4-a9c4-432b-860f-eee38d255305",
   "metadata": {},
   "outputs": [
    {
     "name": "stdout",
     "output_type": "stream",
     "text": [
      "Classification : \n",
      " Future_Prediction:[1]\n"
     ]
    }
   ],
   "source": [
    "#result= loaded_model.predict(preinput)\n",
    "Future_Prediction=loaded_model.predict([[age_input,bp_input,sg_b_input,sg_c_input,sg_e_input,sg_d_input,ai_input,su_input,rbc_input,pc_input,\n",
    "pcc_input,ba_input,bgr_input,bu_input,sc_input,\n",
    "                                 \n",
    "sod_input,pot_input,hrmo_input,pcv_input,wc_input,\n",
    "rc_input,htn_input,dn_input,cad_input,appet_input,pc_input,ane_input]]) # change the paramter,play with it.\n",
    "print(\"Classification : \\n\",\"Future_Prediction:{}\".format(Future_Prediction))"
   ]
  },
  {
   "cell_type": "code",
   "execution_count": 16,
   "id": "6e5f87ce-fdb9-41c3-b1a6-ffd76eed8736",
   "metadata": {},
   "outputs": [],
   "source": [
    "preoutput=scy.inverse_transform([Future_Prediction])"
   ]
  },
  {
   "cell_type": "code",
   "execution_count": 17,
   "id": "83c43e7e-74d2-416a-a137-b6c3fe68dc94",
   "metadata": {},
   "outputs": [
    {
     "data": {
      "text/plain": [
       "array([[1.11120569]])"
      ]
     },
     "execution_count": 17,
     "metadata": {},
     "output_type": "execute_result"
    }
   ],
   "source": [
    "preoutput"
   ]
  },
  {
   "cell_type": "code",
   "execution_count": null,
   "id": "3b45b93a-f102-468a-89fe-577b4ffeab86",
   "metadata": {},
   "outputs": [],
   "source": []
  }
 ],
 "metadata": {
  "kernelspec": {
   "display_name": "Python 3 (ipykernel)",
   "language": "python",
   "name": "python3"
  },
  "language_info": {
   "codemirror_mode": {
    "name": "ipython",
    "version": 3
   },
   "file_extension": ".py",
   "mimetype": "text/x-python",
   "name": "python",
   "nbconvert_exporter": "python",
   "pygments_lexer": "ipython3",
   "version": "3.12.4"
  }
 },
 "nbformat": 4,
 "nbformat_minor": 5
}
